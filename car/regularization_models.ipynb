{
 "cells": [
  {
   "cell_type": "markdown",
   "metadata": {},
   "source": [
    "## Regularization "
   ]
  },
  {
   "cell_type": "markdown",
   "metadata": {},
   "source": [
    "<ul>\n",
    "<li>A model will have a low accuracy if it is overfitting. </li>\n",
    "<li>Overfitting occurs when model is trying too hard to capture the noise (samples that don't represent true pattern)\n",
    "    in your training dataset.</li>\n",
    "<li>When model is more flexible, it is prone to overfitting</li>\n",
    "<li>Regularization shrinks the coefficients (parameter or slops) towards zero to discourages a more complex or flexible model, so as to avoid the risk of overfitting</li>\n",
    "    <li>Ridge and Lasso are two options </li>\n",
    "    <li>Regularization strength is provided by parameter <b>alpha</b></li>\n",
    "</ul>    "
   ]
  },
  {
   "cell_type": "code",
   "execution_count": 2,
   "metadata": {},
   "outputs": [],
   "source": [
    "# import pandas library\n",
    "import pandas as pd\n",
    "import numpy as np\n",
    "import matplotlib.pyplot as plt\n",
    "import seaborn as sns"
   ]
  },
  {
   "cell_type": "code",
   "execution_count": 3,
   "metadata": {},
   "outputs": [],
   "source": [
    "cars = pd.read_csv(\"final_cars.csv\")"
   ]
  },
  {
   "cell_type": "code",
   "execution_count": 4,
   "metadata": {},
   "outputs": [],
   "source": [
    "## create X and Y\n",
    "y = cars['price']\n",
    "X = cars.drop(columns=['price'])"
   ]
  },
  {
   "cell_type": "code",
   "execution_count": 5,
   "metadata": {},
   "outputs": [],
   "source": [
    "X  = pd.get_dummies(X)"
   ]
  },
  {
   "cell_type": "code",
   "execution_count": 6,
   "metadata": {},
   "outputs": [],
   "source": [
    "from sklearn.preprocessing import StandardScaler\n",
    "scaler = StandardScaler()"
   ]
  },
  {
   "cell_type": "code",
   "execution_count": 7,
   "metadata": {},
   "outputs": [],
   "source": [
    "X_scaled = scaler.fit_transform(X)"
   ]
  },
  {
   "cell_type": "markdown",
   "metadata": {},
   "source": [
    "## Ridge Regression"
   ]
  },
  {
   "cell_type": "code",
   "execution_count": 8,
   "metadata": {},
   "outputs": [],
   "source": [
    "from sklearn.linear_model import Ridge\n",
    "from sklearn.model_selection import train_test_split\n",
    "from sklearn.metrics import mean_squared_error"
   ]
  },
  {
   "cell_type": "code",
   "execution_count": 9,
   "metadata": {},
   "outputs": [],
   "source": [
    "X_train, X_test,y_train,y_test = train_test_split(X,y,test_size=0.3, random_state = 0)"
   ]
  },
  {
   "cell_type": "code",
   "execution_count": 24,
   "metadata": {},
   "outputs": [
    {
     "data": {
      "text/plain": [
       "Ridge(alpha=0.1, normalize=True)"
      ]
     },
     "execution_count": 24,
     "metadata": {},
     "output_type": "execute_result"
    }
   ],
   "source": [
    "ridge = Ridge(normalize=True, alpha=0.10)\n",
    "ridge.fit(X_train,y_train)"
   ]
  },
  {
   "cell_type": "code",
   "execution_count": 25,
   "metadata": {},
   "outputs": [
    {
     "name": "stdout",
     "output_type": "stream",
     "text": [
      "length                         27.59\n",
      "width                         494.19\n",
      "curb-weight                     2.88\n",
      "engine-size                    39.40\n",
      "highway-mpg                   -83.82\n",
      "make_alfa-romero              154.21\n",
      "make_audi                    1372.21\n",
      "make_bmw                     7650.93\n",
      "make_chevrolet               1884.43\n",
      "make_dodge                   -795.11\n",
      "make_honda                   -299.11\n",
      "make_isuzu                  -2910.37\n",
      "make_jaguar                  5710.25\n",
      "make_mazda                   -472.71\n",
      "make_mercedes-benz           6881.49\n",
      "make_mercury                 -416.77\n",
      "make_mitsubishi             -1724.46\n",
      "make_nissan                  -587.28\n",
      "make_peugot                 -1789.85\n",
      "make_plymouth               -1257.75\n",
      "make_porsche                    0.00\n",
      "make_renault                -2510.34\n",
      "make_saab                    2274.94\n",
      "make_subaru                 -1597.33\n",
      "make_toyota                 -1567.72\n",
      "make_volkswagen              -293.71\n",
      "make_volvo                    651.34\n",
      "fuel-type_diesel               88.69\n",
      "fuel-type_gas                 -88.69\n",
      "num-of-doors_four             -52.23\n",
      "num-of-doors_two               52.23\n",
      "body-style_convertible       2191.73\n",
      "body-style_hardtop          -1844.85\n",
      "body-style_hatchback           69.12\n",
      "body-style_sedan              265.93\n",
      "body-style_wagon             -806.57\n",
      "drive-wheels_4wd             -461.50\n",
      "drive-wheels_fwd             -655.40\n",
      "drive-wheels_rwd              739.56\n"
     ]
    }
   ],
   "source": [
    "# Display coefficient for each column\n",
    "for t in zip(X.columns, ridge.coef_):\n",
    "  print(f\"{t[0]:25s} {t[1]:10.2f}\")"
   ]
  },
  {
   "cell_type": "code",
   "execution_count": 26,
   "metadata": {},
   "outputs": [
    {
     "name": "stdout",
     "output_type": "stream",
     "text": [
      "MSE  :  3541967.8639164567\n",
      "RMSE :  1882.0116535017673\n"
     ]
    }
   ],
   "source": [
    "y_pred = ridge.predict(X_train)\n",
    "mse = mean_squared_error(y_train,y_pred)\n",
    "print(\"MSE  : \", mse)\n",
    "print(\"RMSE : \", np.sqrt(mse))"
   ]
  },
  {
   "cell_type": "code",
   "execution_count": 27,
   "metadata": {},
   "outputs": [],
   "source": [
    "y_pred = ridge.predict(X_test)"
   ]
  },
  {
   "cell_type": "code",
   "execution_count": 28,
   "metadata": {},
   "outputs": [
    {
     "name": "stdout",
     "output_type": "stream",
     "text": [
      "MSE  :  22134540.55063879\n",
      "RMSE :  4704.735970342947\n"
     ]
    }
   ],
   "source": [
    "mse = mean_squared_error(y_test,y_pred)\n",
    "print(\"MSE  : \", mse)\n",
    "print(\"RMSE : \", np.sqrt(mse))"
   ]
  },
  {
   "cell_type": "markdown",
   "metadata": {},
   "source": [
    "## LassoCV"
   ]
  },
  {
   "cell_type": "code",
   "execution_count": 29,
   "metadata": {},
   "outputs": [],
   "source": [
    "from sklearn.linear_model import LassoCV\n",
    "from sklearn.metrics import r2_score"
   ]
  },
  {
   "cell_type": "code",
   "execution_count": 33,
   "metadata": {},
   "outputs": [
    {
     "data": {
      "text/plain": [
       "LassoCV(alphas=(50, 45, 40, 35, 25, 10), cv=5)"
      ]
     },
     "execution_count": 33,
     "metadata": {},
     "output_type": "execute_result"
    }
   ],
   "source": [
    "lm = LassoCV(cv=5,alphas=(50,45,40,35,25,10))\n",
    "lm.fit(X_scaled,y)"
   ]
  },
  {
   "cell_type": "code",
   "execution_count": 34,
   "metadata": {},
   "outputs": [
    {
     "data": {
      "text/plain": [
       "40"
      ]
     },
     "execution_count": 34,
     "metadata": {},
     "output_type": "execute_result"
    }
   ],
   "source": [
    "lm.alpha_"
   ]
  },
  {
   "cell_type": "code",
   "execution_count": 35,
   "metadata": {},
   "outputs": [
    {
     "name": "stdout",
     "output_type": "stream",
     "text": [
      "length                         -0.00\n",
      "width                         905.02\n",
      "curb-weight                  1955.97\n",
      "engine-size                  2190.40\n",
      "highway-mpg                  -370.92\n",
      "make_alfa-romero                0.00\n",
      "make_audi                     516.36\n",
      "make_bmw                     1702.47\n",
      "make_chevrolet                181.73\n",
      "make_dodge                    -22.07\n",
      "make_honda                     48.54\n",
      "make_isuzu                   -208.47\n",
      "make_jaguar                   607.24\n",
      "make_mazda                    164.15\n",
      "make_mercedes-benz           1497.46\n",
      "make_mercury                    0.00\n",
      "make_mitsubishi              -290.29\n",
      "make_nissan                  -156.25\n",
      "make_peugot                  -333.60\n",
      "make_plymouth                -111.93\n",
      "make_porsche                 1836.32\n",
      "make_renault                 -197.59\n",
      "make_saab                     361.65\n",
      "make_subaru                  -202.34\n",
      "make_toyota                  -439.62\n",
      "make_volkswagen                 0.00\n",
      "make_volvo                    270.47\n",
      "fuel-type_diesel                0.00\n",
      "fuel-type_gas                  -0.00\n",
      "num-of-doors_four               0.00\n",
      "num-of-doors_two               -0.00\n",
      "body-style_convertible        471.64\n",
      "body-style_hardtop             47.60\n",
      "body-style_hatchback          -76.45\n",
      "body-style_sedan                0.00\n",
      "body-style_wagon             -284.85\n",
      "drive-wheels_4wd                0.00\n",
      "drive-wheels_fwd             -176.67\n",
      "drive-wheels_rwd              331.87\n"
     ]
    }
   ],
   "source": [
    "# Display coefficient for each column\n",
    "for t in zip(X.columns, lm.coef_):\n",
    "  print(f\"{t[0]:25s} {t[1]:10.2f}\")"
   ]
  },
  {
   "cell_type": "code",
   "execution_count": 36,
   "metadata": {},
   "outputs": [
    {
     "data": {
      "text/plain": [
       "array([-0.,  0.,  0.,  0.,  0., -0.,  0., -0.,  0.,  0.])"
      ]
     },
     "execution_count": 36,
     "metadata": {},
     "output_type": "execute_result"
    }
   ],
   "source": [
    "lm.coef_[np.abs(lm.coef_) == 0]"
   ]
  },
  {
   "cell_type": "code",
   "execution_count": 37,
   "metadata": {},
   "outputs": [],
   "source": [
    "# Take a part of data for final testing \n",
    "y_test  = y[:50]\n",
    "X_test = X_scaled[:50]\n",
    "y_pred = lm.predict(X_test)"
   ]
  },
  {
   "cell_type": "code",
   "execution_count": 38,
   "metadata": {},
   "outputs": [
    {
     "name": "stdout",
     "output_type": "stream",
     "text": [
      "MSE  :  4888595.6603671415\n",
      "RMSE :  2211.016883781565\n"
     ]
    }
   ],
   "source": [
    "from sklearn.metrics import mean_squared_error\n",
    "mse = mean_squared_error(y_test,y_pred)\n",
    "print(\"MSE  : \",mse)\n",
    "print(\"RMSE : \", np.sqrt(mse))"
   ]
  },
  {
   "cell_type": "code",
   "execution_count": 39,
   "metadata": {},
   "outputs": [
    {
     "name": "stdout",
     "output_type": "stream",
     "text": [
      "R2 Score: 0.95\n"
     ]
    }
   ],
   "source": [
    "r2score = r2_score(y_test,y_pred)\n",
    "print(f\"R2 Score: {r2score:0.2f}\")"
   ]
  },
  {
   "cell_type": "code",
   "execution_count": null,
   "metadata": {},
   "outputs": [],
   "source": []
  },
  {
   "cell_type": "code",
   "execution_count": null,
   "metadata": {},
   "outputs": [],
   "source": []
  }
 ],
 "metadata": {
  "kernelspec": {
   "display_name": "Python 3",
   "language": "python",
   "name": "python3"
  },
  "language_info": {
   "codemirror_mode": {
    "name": "ipython",
    "version": 3
   },
   "file_extension": ".py",
   "mimetype": "text/x-python",
   "name": "python",
   "nbconvert_exporter": "python",
   "pygments_lexer": "ipython3",
   "version": "3.8.3"
  }
 },
 "nbformat": 4,
 "nbformat_minor": 4
}
