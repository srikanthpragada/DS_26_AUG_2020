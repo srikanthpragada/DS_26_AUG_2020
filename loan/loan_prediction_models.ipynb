{
 "cells": [
  {
   "cell_type": "markdown",
   "metadata": {},
   "source": [
    "### Import libraries "
   ]
  },
  {
   "cell_type": "code",
   "execution_count": 3,
   "metadata": {},
   "outputs": [],
   "source": [
    "# Importing required packages\n",
    "import pandas as pd\n",
    "import numpy as np\n",
    "import seaborn as sns\n",
    "import matplotlib.pyplot as plt\n",
    "sns.set(style='white')"
   ]
  },
  {
   "cell_type": "markdown",
   "metadata": {},
   "source": [
    "## Load data from final csv"
   ]
  },
  {
   "cell_type": "code",
   "execution_count": 4,
   "metadata": {},
   "outputs": [],
   "source": [
    "train = pd.read_csv(\"final_train.csv\")"
   ]
  },
  {
   "cell_type": "code",
   "execution_count": 5,
   "metadata": {},
   "outputs": [
    {
     "name": "stdout",
     "output_type": "stream",
     "text": [
      "<class 'pandas.core.frame.DataFrame'>\n",
      "RangeIndex: 564 entries, 0 to 563\n",
      "Data columns (total 11 columns):\n",
      " #   Column          Non-Null Count  Dtype  \n",
      "---  ------          --------------  -----  \n",
      " 0   Gender          564 non-null    object \n",
      " 1   Married         564 non-null    object \n",
      " 2   Dependents      564 non-null    int64  \n",
      " 3   Education       564 non-null    object \n",
      " 4   SelfEmployed    564 non-null    object \n",
      " 5   LoanAmountTerm  564 non-null    float64\n",
      " 6   CreditHistory   564 non-null    float64\n",
      " 7   PropertyArea    564 non-null    object \n",
      " 8   LoanStatus      564 non-null    int64  \n",
      " 9   LoanAmountLog   564 non-null    float64\n",
      " 10  IncomeLog       564 non-null    float64\n",
      "dtypes: float64(4), int64(2), object(5)\n",
      "memory usage: 48.6+ KB\n"
     ]
    }
   ],
   "source": [
    "train.info()"
   ]
  },
  {
   "cell_type": "code",
   "execution_count": 6,
   "metadata": {},
   "outputs": [],
   "source": [
    "X = train.drop(columns=['LoanStatus'])\n",
    "y = train.LoanStatus"
   ]
  },
  {
   "cell_type": "code",
   "execution_count": 7,
   "metadata": {},
   "outputs": [],
   "source": [
    "X = pd.get_dummies(X)  # One Hot Encoding "
   ]
  },
  {
   "cell_type": "code",
   "execution_count": 8,
   "metadata": {},
   "outputs": [
    {
     "data": {
      "text/plain": [
       "Index(['Dependents', 'LoanAmountTerm', 'CreditHistory', 'LoanAmountLog',\n",
       "       'IncomeLog', 'Gender_Female', 'Gender_Male', 'Married_No',\n",
       "       'Married_Yes', 'Education_Graduate', 'Education_Not Graduate',\n",
       "       'SelfEmployed_No', 'SelfEmployed_Yes', 'PropertyArea_Rural',\n",
       "       'PropertyArea_Semiurban', 'PropertyArea_Urban'],\n",
       "      dtype='object')"
      ]
     },
     "execution_count": 8,
     "metadata": {},
     "output_type": "execute_result"
    }
   ],
   "source": [
    "X.columns"
   ]
  },
  {
   "cell_type": "code",
   "execution_count": 9,
   "metadata": {},
   "outputs": [
    {
     "name": "stdout",
     "output_type": "stream",
     "text": [
      "<class 'pandas.core.frame.DataFrame'>\n",
      "RangeIndex: 564 entries, 0 to 563\n",
      "Data columns (total 16 columns):\n",
      " #   Column                  Non-Null Count  Dtype  \n",
      "---  ------                  --------------  -----  \n",
      " 0   Dependents              564 non-null    int64  \n",
      " 1   LoanAmountTerm          564 non-null    float64\n",
      " 2   CreditHistory           564 non-null    float64\n",
      " 3   LoanAmountLog           564 non-null    float64\n",
      " 4   IncomeLog               564 non-null    float64\n",
      " 5   Gender_Female           564 non-null    uint8  \n",
      " 6   Gender_Male             564 non-null    uint8  \n",
      " 7   Married_No              564 non-null    uint8  \n",
      " 8   Married_Yes             564 non-null    uint8  \n",
      " 9   Education_Graduate      564 non-null    uint8  \n",
      " 10  Education_Not Graduate  564 non-null    uint8  \n",
      " 11  SelfEmployed_No         564 non-null    uint8  \n",
      " 12  SelfEmployed_Yes        564 non-null    uint8  \n",
      " 13  PropertyArea_Rural      564 non-null    uint8  \n",
      " 14  PropertyArea_Semiurban  564 non-null    uint8  \n",
      " 15  PropertyArea_Urban      564 non-null    uint8  \n",
      "dtypes: float64(4), int64(1), uint8(11)\n",
      "memory usage: 28.2 KB\n"
     ]
    }
   ],
   "source": [
    "X.info()"
   ]
  },
  {
   "cell_type": "code",
   "execution_count": 10,
   "metadata": {},
   "outputs": [
    {
     "data": {
      "text/plain": [
       "(564, 16)"
      ]
     },
     "execution_count": 10,
     "metadata": {},
     "output_type": "execute_result"
    }
   ],
   "source": [
    "X.shape"
   ]
  },
  {
   "cell_type": "code",
   "execution_count": 11,
   "metadata": {},
   "outputs": [
    {
     "data": {
      "text/html": [
       "<div>\n",
       "<style scoped>\n",
       "    .dataframe tbody tr th:only-of-type {\n",
       "        vertical-align: middle;\n",
       "    }\n",
       "\n",
       "    .dataframe tbody tr th {\n",
       "        vertical-align: top;\n",
       "    }\n",
       "\n",
       "    .dataframe thead th {\n",
       "        text-align: right;\n",
       "    }\n",
       "</style>\n",
       "<table border=\"1\" class=\"dataframe\">\n",
       "  <thead>\n",
       "    <tr style=\"text-align: right;\">\n",
       "      <th></th>\n",
       "      <th>Dependents</th>\n",
       "      <th>LoanAmountTerm</th>\n",
       "      <th>CreditHistory</th>\n",
       "      <th>LoanAmountLog</th>\n",
       "      <th>IncomeLog</th>\n",
       "      <th>Gender_Female</th>\n",
       "      <th>Gender_Male</th>\n",
       "      <th>Married_No</th>\n",
       "      <th>Married_Yes</th>\n",
       "      <th>Education_Graduate</th>\n",
       "      <th>Education_Not Graduate</th>\n",
       "      <th>SelfEmployed_No</th>\n",
       "      <th>SelfEmployed_Yes</th>\n",
       "      <th>PropertyArea_Rural</th>\n",
       "      <th>PropertyArea_Semiurban</th>\n",
       "      <th>PropertyArea_Urban</th>\n",
       "    </tr>\n",
       "  </thead>\n",
       "  <tbody>\n",
       "    <tr>\n",
       "      <th>464</th>\n",
       "      <td>0</td>\n",
       "      <td>360.0</td>\n",
       "      <td>1.0</td>\n",
       "      <td>4.564348</td>\n",
       "      <td>8.183956</td>\n",
       "      <td>0</td>\n",
       "      <td>1</td>\n",
       "      <td>1</td>\n",
       "      <td>0</td>\n",
       "      <td>1</td>\n",
       "      <td>0</td>\n",
       "      <td>1</td>\n",
       "      <td>0</td>\n",
       "      <td>0</td>\n",
       "      <td>0</td>\n",
       "      <td>1</td>\n",
       "    </tr>\n",
       "    <tr>\n",
       "      <th>137</th>\n",
       "      <td>0</td>\n",
       "      <td>360.0</td>\n",
       "      <td>1.0</td>\n",
       "      <td>4.828314</td>\n",
       "      <td>8.646466</td>\n",
       "      <td>0</td>\n",
       "      <td>1</td>\n",
       "      <td>0</td>\n",
       "      <td>1</td>\n",
       "      <td>1</td>\n",
       "      <td>0</td>\n",
       "      <td>1</td>\n",
       "      <td>0</td>\n",
       "      <td>0</td>\n",
       "      <td>1</td>\n",
       "      <td>0</td>\n",
       "    </tr>\n",
       "    <tr>\n",
       "      <th>267</th>\n",
       "      <td>0</td>\n",
       "      <td>360.0</td>\n",
       "      <td>1.0</td>\n",
       "      <td>5.231109</td>\n",
       "      <td>9.159889</td>\n",
       "      <td>0</td>\n",
       "      <td>1</td>\n",
       "      <td>1</td>\n",
       "      <td>0</td>\n",
       "      <td>1</td>\n",
       "      <td>0</td>\n",
       "      <td>1</td>\n",
       "      <td>0</td>\n",
       "      <td>1</td>\n",
       "      <td>0</td>\n",
       "      <td>0</td>\n",
       "    </tr>\n",
       "    <tr>\n",
       "      <th>217</th>\n",
       "      <td>1</td>\n",
       "      <td>360.0</td>\n",
       "      <td>1.0</td>\n",
       "      <td>4.941642</td>\n",
       "      <td>8.503905</td>\n",
       "      <td>0</td>\n",
       "      <td>1</td>\n",
       "      <td>0</td>\n",
       "      <td>1</td>\n",
       "      <td>1</td>\n",
       "      <td>0</td>\n",
       "      <td>1</td>\n",
       "      <td>0</td>\n",
       "      <td>0</td>\n",
       "      <td>1</td>\n",
       "      <td>0</td>\n",
       "    </tr>\n",
       "    <tr>\n",
       "      <th>71</th>\n",
       "      <td>0</td>\n",
       "      <td>480.0</td>\n",
       "      <td>1.0</td>\n",
       "      <td>4.727388</td>\n",
       "      <td>8.229511</td>\n",
       "      <td>0</td>\n",
       "      <td>1</td>\n",
       "      <td>1</td>\n",
       "      <td>0</td>\n",
       "      <td>1</td>\n",
       "      <td>0</td>\n",
       "      <td>1</td>\n",
       "      <td>0</td>\n",
       "      <td>0</td>\n",
       "      <td>0</td>\n",
       "      <td>1</td>\n",
       "    </tr>\n",
       "  </tbody>\n",
       "</table>\n",
       "</div>"
      ],
      "text/plain": [
       "     Dependents  LoanAmountTerm  CreditHistory  LoanAmountLog  IncomeLog  \\\n",
       "464           0           360.0            1.0       4.564348   8.183956   \n",
       "137           0           360.0            1.0       4.828314   8.646466   \n",
       "267           0           360.0            1.0       5.231109   9.159889   \n",
       "217           1           360.0            1.0       4.941642   8.503905   \n",
       "71            0           480.0            1.0       4.727388   8.229511   \n",
       "\n",
       "     Gender_Female  Gender_Male  Married_No  Married_Yes  Education_Graduate  \\\n",
       "464              0            1           1            0                   1   \n",
       "137              0            1           0            1                   1   \n",
       "267              0            1           1            0                   1   \n",
       "217              0            1           0            1                   1   \n",
       "71               0            1           1            0                   1   \n",
       "\n",
       "     Education_Not Graduate  SelfEmployed_No  SelfEmployed_Yes  \\\n",
       "464                       0                1                 0   \n",
       "137                       0                1                 0   \n",
       "267                       0                1                 0   \n",
       "217                       0                1                 0   \n",
       "71                        0                1                 0   \n",
       "\n",
       "     PropertyArea_Rural  PropertyArea_Semiurban  PropertyArea_Urban  \n",
       "464                   0                       0                   1  \n",
       "137                   0                       1                   0  \n",
       "267                   1                       0                   0  \n",
       "217                   0                       1                   0  \n",
       "71                    0                       0                   1  "
      ]
     },
     "execution_count": 11,
     "metadata": {},
     "output_type": "execute_result"
    }
   ],
   "source": [
    "X.sample(5)"
   ]
  },
  {
   "cell_type": "markdown",
   "metadata": {},
   "source": [
    "### Split data into train and test data "
   ]
  },
  {
   "cell_type": "code",
   "execution_count": 12,
   "metadata": {},
   "outputs": [],
   "source": [
    "from sklearn.model_selection import train_test_split\n",
    "X_train, X_test, y_train, y_test = train_test_split(X,y, test_size=0.2, random_state=0)"
   ]
  },
  {
   "cell_type": "code",
   "execution_count": 13,
   "metadata": {},
   "outputs": [],
   "source": [
    "from sklearn.metrics import confusion_matrix\n",
    "from sklearn.metrics import classification_report"
   ]
  },
  {
   "cell_type": "code",
   "execution_count": 14,
   "metadata": {},
   "outputs": [],
   "source": [
    "def print_scores(y_true, y_pred):\n",
    "    cm = confusion_matrix(y_true,y_pred)\n",
    "    tn = cm[0,0]\n",
    "    tp = cm[1,1]\n",
    "    fp = cm[0,1]\n",
    "    fn = cm[1,0]\n",
    "    print(f\"Overall Accuracy             : {(tp + tn) / (tp + fp + tn + fn):.2f}\")\n",
    "    print(f\"Precision                    : {tp / (tp + fp):.2f}\")\n",
    "    print(f\"Recall or TPR or Sensitivity : {tp / (tp + fn):.2f}\")\n",
    "    print(f\"Specificity or TNR           : {tn / (tn + fp):.2f}\")      "
   ]
  },
  {
   "cell_type": "code",
   "execution_count": 15,
   "metadata": {},
   "outputs": [
    {
     "data": {
      "text/plain": [
       "StandardScaler(copy=True, with_mean=True, with_std=True)"
      ]
     },
     "execution_count": 15,
     "metadata": {},
     "output_type": "execute_result"
    }
   ],
   "source": [
    "from sklearn.preprocessing import StandardScaler\n",
    "ss = StandardScaler()\n",
    "ss.fit(X_train)  # Find out mean and std in data "
   ]
  },
  {
   "cell_type": "code",
   "execution_count": 16,
   "metadata": {},
   "outputs": [],
   "source": [
    "# Transform both train and test data with the same scale \n",
    "X_train_scaled = ss.transform(X_train)\n",
    "X_test_scaled = ss.transform(X_test)"
   ]
  },
  {
   "cell_type": "code",
   "execution_count": 17,
   "metadata": {},
   "outputs": [
    {
     "data": {
      "text/plain": [
       "(array([8.00443459e-01, 3.42172949e+02, 8.38137472e-01, 4.84777596e+00,\n",
       "        8.65629329e+00, 1.75166297e-01, 8.24833703e-01, 3.59201774e-01,\n",
       "        6.40798226e-01, 7.91574279e-01, 2.08425721e-01, 8.66962306e-01,\n",
       "        1.33037694e-01, 2.90465632e-01, 3.90243902e-01, 3.19290466e-01]),\n",
       " array([1.07769382e+00, 4.15737142e+03, 1.35663050e-01, 2.57676031e-01,\n",
       "        2.88927291e-01, 1.44483065e-01, 1.44483065e-01, 2.30175860e-01,\n",
       "        2.30175860e-01, 1.64984440e-01, 1.64984440e-01, 1.15338666e-01,\n",
       "        1.15338666e-01, 2.06095349e-01, 2.37953599e-01, 2.17344064e-01]))"
      ]
     },
     "execution_count": 17,
     "metadata": {},
     "output_type": "execute_result"
    }
   ],
   "source": [
    "ss.mean_, ss.var_"
   ]
  },
  {
   "cell_type": "markdown",
   "metadata": {},
   "source": [
    "## Logistic Regression"
   ]
  },
  {
   "cell_type": "code",
   "execution_count": 18,
   "metadata": {},
   "outputs": [],
   "source": [
    "# Importing packages logistic regression and evaluation \n",
    "from sklearn.linear_model import LogisticRegression"
   ]
  },
  {
   "cell_type": "code",
   "execution_count": 19,
   "metadata": {},
   "outputs": [
    {
     "data": {
      "text/plain": [
       "LogisticRegression(C=1.0, class_weight=None, dual=False, fit_intercept=True,\n",
       "                   intercept_scaling=1, l1_ratio=None, max_iter=100,\n",
       "                   multi_class='auto', n_jobs=None, penalty='l2',\n",
       "                   random_state=None, solver='lbfgs', tol=0.0001, verbose=0,\n",
       "                   warm_start=False)"
      ]
     },
     "execution_count": 19,
     "metadata": {},
     "output_type": "execute_result"
    }
   ],
   "source": [
    "# logistic regression   \n",
    "model = LogisticRegression()\n",
    "model.fit(X_train_scaled,y_train)"
   ]
  },
  {
   "cell_type": "code",
   "execution_count": 20,
   "metadata": {},
   "outputs": [
    {
     "data": {
      "text/plain": [
       "0.8248337028824834"
      ]
     },
     "execution_count": 20,
     "metadata": {},
     "output_type": "execute_result"
    }
   ],
   "source": [
    "# Check model's performance with train data \n",
    "model.score(X_train_scaled,y_train)"
   ]
  },
  {
   "cell_type": "code",
   "execution_count": 21,
   "metadata": {},
   "outputs": [],
   "source": [
    "y_pred = model.predict(X_test_scaled)"
   ]
  },
  {
   "cell_type": "code",
   "execution_count": 22,
   "metadata": {},
   "outputs": [
    {
     "data": {
      "text/plain": [
       "0.7787610619469026"
      ]
     },
     "execution_count": 22,
     "metadata": {},
     "output_type": "execute_result"
    }
   ],
   "source": [
    "model.score(X_test_scaled,y_test)"
   ]
  },
  {
   "cell_type": "code",
   "execution_count": 23,
   "metadata": {},
   "outputs": [
    {
     "data": {
      "text/plain": [
       "array([[13, 22],\n",
       "       [ 3, 75]], dtype=int64)"
      ]
     },
     "execution_count": 23,
     "metadata": {},
     "output_type": "execute_result"
    }
   ],
   "source": [
    "confusion_matrix(y_test,y_pred)"
   ]
  },
  {
   "cell_type": "code",
   "execution_count": 24,
   "metadata": {},
   "outputs": [
    {
     "name": "stdout",
     "output_type": "stream",
     "text": [
      "Overall Accuracy             : 0.78\n",
      "Precision                    : 0.77\n",
      "Recall or TPR or Sensitivity : 0.96\n",
      "Specificity or TNR           : 0.37\n"
     ]
    }
   ],
   "source": [
    "print_scores(y_test,y_pred)"
   ]
  },
  {
   "cell_type": "markdown",
   "metadata": {},
   "source": [
    "### Display classification report"
   ]
  },
  {
   "cell_type": "code",
   "execution_count": 25,
   "metadata": {},
   "outputs": [
    {
     "name": "stdout",
     "output_type": "stream",
     "text": [
      "              precision    recall  f1-score   support\n",
      "\n",
      "           0       0.81      0.37      0.51        35\n",
      "           1       0.77      0.96      0.86        78\n",
      "\n",
      "    accuracy                           0.78       113\n",
      "   macro avg       0.79      0.67      0.68       113\n",
      "weighted avg       0.79      0.78      0.75       113\n",
      "\n"
     ]
    }
   ],
   "source": [
    "print(classification_report(y_test,y_pred))"
   ]
  },
  {
   "cell_type": "code",
   "execution_count": 26,
   "metadata": {},
   "outputs": [],
   "source": [
    "y_pred_prob = model.predict_proba(X_test_scaled)"
   ]
  },
  {
   "cell_type": "code",
   "execution_count": 27,
   "metadata": {},
   "outputs": [
    {
     "data": {
      "text/plain": [
       "array([[0.24778533, 0.75221467],\n",
       "       [0.10699829, 0.89300171],\n",
       "       [0.12604105, 0.87395895],\n",
       "       [0.12853865, 0.87146135],\n",
       "       [0.23119301, 0.76880699]])"
      ]
     },
     "execution_count": 27,
     "metadata": {},
     "output_type": "execute_result"
    }
   ],
   "source": [
    "y_pred_prob[:5]"
   ]
  },
  {
   "cell_type": "code",
   "execution_count": 28,
   "metadata": {},
   "outputs": [
    {
     "data": {
      "text/plain": [
       "array([1, 1, 1, 1, 1], dtype=int64)"
      ]
     },
     "execution_count": 28,
     "metadata": {},
     "output_type": "execute_result"
    }
   ],
   "source": [
    "y_pred[:5]"
   ]
  },
  {
   "cell_type": "markdown",
   "metadata": {},
   "source": [
    "## Decision Tree"
   ]
  },
  {
   "cell_type": "code",
   "execution_count": 29,
   "metadata": {},
   "outputs": [],
   "source": [
    "from sklearn.tree import DecisionTreeClassifier"
   ]
  },
  {
   "cell_type": "code",
   "execution_count": 30,
   "metadata": {},
   "outputs": [
    {
     "data": {
      "text/plain": [
       "DecisionTreeClassifier(ccp_alpha=0.0, class_weight=None, criterion='gini',\n",
       "                       max_depth=4, max_features=None, max_leaf_nodes=None,\n",
       "                       min_impurity_decrease=0.0, min_impurity_split=None,\n",
       "                       min_samples_leaf=1, min_samples_split=2,\n",
       "                       min_weight_fraction_leaf=0.0, presort='deprecated',\n",
       "                       random_state=None, splitter='best')"
      ]
     },
     "execution_count": 30,
     "metadata": {},
     "output_type": "execute_result"
    }
   ],
   "source": [
    "model = DecisionTreeClassifier(max_depth=4)\n",
    "model.fit(X_train,y_train)"
   ]
  },
  {
   "cell_type": "code",
   "execution_count": 31,
   "metadata": {},
   "outputs": [
    {
     "data": {
      "text/plain": [
       "0.8536585365853658"
      ]
     },
     "execution_count": 31,
     "metadata": {},
     "output_type": "execute_result"
    }
   ],
   "source": [
    "model.score(X_train,y_train)"
   ]
  },
  {
   "cell_type": "code",
   "execution_count": 32,
   "metadata": {},
   "outputs": [],
   "source": [
    "y_pred = model.predict(X_test)"
   ]
  },
  {
   "cell_type": "code",
   "execution_count": 33,
   "metadata": {},
   "outputs": [
    {
     "data": {
      "text/plain": [
       "array([[15, 20],\n",
       "       [ 5, 73]], dtype=int64)"
      ]
     },
     "execution_count": 33,
     "metadata": {},
     "output_type": "execute_result"
    }
   ],
   "source": [
    "confusion_matrix(y_test,y_pred)"
   ]
  },
  {
   "cell_type": "code",
   "execution_count": 34,
   "metadata": {},
   "outputs": [
    {
     "name": "stdout",
     "output_type": "stream",
     "text": [
      "Overall Accuracy             : 0.78\n",
      "Precision                    : 0.78\n",
      "Recall or TPR or Sensitivity : 0.94\n",
      "Specificity or TNR           : 0.43\n"
     ]
    }
   ],
   "source": [
    "print_scores(y_test,y_pred)"
   ]
  },
  {
   "cell_type": "code",
   "execution_count": 35,
   "metadata": {},
   "outputs": [
    {
     "name": "stdout",
     "output_type": "stream",
     "text": [
      "              precision    recall  f1-score   support\n",
      "\n",
      "           0       0.75      0.43      0.55        35\n",
      "           1       0.78      0.94      0.85        78\n",
      "\n",
      "    accuracy                           0.78       113\n",
      "   macro avg       0.77      0.68      0.70       113\n",
      "weighted avg       0.77      0.78      0.76       113\n",
      "\n"
     ]
    }
   ],
   "source": [
    "print(classification_report(y_test,y_pred))"
   ]
  },
  {
   "cell_type": "markdown",
   "metadata": {},
   "source": [
    "#### Decision Tree Created by Classifier"
   ]
  },
  {
   "cell_type": "code",
   "execution_count": 36,
   "metadata": {},
   "outputs": [
    {
     "name": "stdout",
     "output_type": "stream",
     "text": [
      "|--- CreditHistory <= 0.50\n",
      "|   |--- LoanAmountLog <= 6.30\n",
      "|   |   |--- LoanAmountLog <= 4.86\n",
      "|   |   |   |--- class: 0\n",
      "|   |   |--- LoanAmountLog >  4.86\n",
      "|   |   |   |--- LoanAmountLog <= 4.88\n",
      "|   |   |   |   |--- class: 1\n",
      "|   |   |   |--- LoanAmountLog >  4.88\n",
      "|   |   |   |   |--- class: 0\n",
      "|   |--- LoanAmountLog >  6.30\n",
      "|   |   |--- class: 1\n",
      "|--- CreditHistory >  0.50\n",
      "|   |--- IncomeLog <= 9.90\n",
      "|   |   |--- IncomeLog <= 7.78\n",
      "|   |   |   |--- PropertyArea_Semiurban <= 0.50\n",
      "|   |   |   |   |--- class: 0\n",
      "|   |   |   |--- PropertyArea_Semiurban >  0.50\n",
      "|   |   |   |   |--- class: 1\n",
      "|   |   |--- IncomeLog >  7.78\n",
      "|   |   |   |--- LoanAmountTerm <= 48.00\n",
      "|   |   |   |   |--- class: 0\n",
      "|   |   |   |--- LoanAmountTerm >  48.00\n",
      "|   |   |   |   |--- class: 1\n",
      "|   |--- IncomeLog >  9.90\n",
      "|   |   |--- Dependents <= 2.00\n",
      "|   |   |   |--- LoanAmountLog <= 4.82\n",
      "|   |   |   |   |--- class: 1\n",
      "|   |   |   |--- LoanAmountLog >  4.82\n",
      "|   |   |   |   |--- class: 0\n",
      "|   |   |--- Dependents >  2.00\n",
      "|   |   |   |--- class: 1\n",
      "\n"
     ]
    }
   ],
   "source": [
    "# Print tree generated by DecisionTreeClassifier\n",
    "from sklearn.tree import export_text\n",
    "tree_rules = export_text(model, feature_names=list(X_train))\n",
    "print(tree_rules)"
   ]
  },
  {
   "cell_type": "markdown",
   "metadata": {},
   "source": [
    "### Random Forest"
   ]
  },
  {
   "cell_type": "code",
   "execution_count": 37,
   "metadata": {},
   "outputs": [],
   "source": [
    "from sklearn.tree import export_text\n",
    "from sklearn.ensemble import RandomForestClassifier"
   ]
  },
  {
   "cell_type": "code",
   "execution_count": 38,
   "metadata": {},
   "outputs": [
    {
     "data": {
      "text/plain": [
       "RandomForestClassifier(bootstrap=True, ccp_alpha=0.0, class_weight=None,\n",
       "                       criterion='gini', max_depth=5, max_features=5,\n",
       "                       max_leaf_nodes=None, max_samples=None,\n",
       "                       min_impurity_decrease=0.0, min_impurity_split=None,\n",
       "                       min_samples_leaf=1, min_samples_split=2,\n",
       "                       min_weight_fraction_leaf=0.0, n_estimators=3,\n",
       "                       n_jobs=None, oob_score=False, random_state=None,\n",
       "                       verbose=0, warm_start=False)"
      ]
     },
     "execution_count": 38,
     "metadata": {},
     "output_type": "execute_result"
    }
   ],
   "source": [
    "model = RandomForestClassifier(n_estimators=3, max_depth=5, max_features=5)\n",
    "model.fit(X_train,y_train)"
   ]
  },
  {
   "cell_type": "code",
   "execution_count": 39,
   "metadata": {},
   "outputs": [
    {
     "data": {
      "text/plain": [
       "0.844789356984479"
      ]
     },
     "execution_count": 39,
     "metadata": {},
     "output_type": "execute_result"
    }
   ],
   "source": [
    "model.score(X_train,y_train)"
   ]
  },
  {
   "cell_type": "code",
   "execution_count": 40,
   "metadata": {},
   "outputs": [],
   "source": [
    "y_pred = model.predict(X_test)"
   ]
  },
  {
   "cell_type": "code",
   "execution_count": 41,
   "metadata": {},
   "outputs": [
    {
     "name": "stdout",
     "output_type": "stream",
     "text": [
      "Overall Accuracy             : 0.73\n",
      "Precision                    : 0.76\n",
      "Recall or TPR or Sensitivity : 0.91\n",
      "Specificity or TNR           : 0.34\n"
     ]
    }
   ],
   "source": [
    "print_scores(y_test,y_pred)"
   ]
  },
  {
   "cell_type": "code",
   "execution_count": 42,
   "metadata": {},
   "outputs": [
    {
     "name": "stdout",
     "output_type": "stream",
     "text": [
      "Tree :  1\n",
      "|--- CreditHistory <= 0.50\n",
      "|   |--- PropertyArea_Semiurban <= 0.50\n",
      "|   |   |--- class: 0.0\n",
      "|   |--- PropertyArea_Semiurban >  0.50\n",
      "|   |   |--- LoanAmountLog <= 4.92\n",
      "|   |   |   |--- class: 0.0\n",
      "|   |   |--- LoanAmountLog >  4.92\n",
      "|   |   |   |--- Married_Yes <= 0.50\n",
      "|   |   |   |   |--- IncomeLog <= 9.47\n",
      "|   |   |   |   |   |--- class: 1.0\n",
      "|   |   |   |   |--- IncomeLog >  9.47\n",
      "|   |   |   |   |   |--- class: 0.0\n",
      "|   |   |   |--- Married_Yes >  0.50\n",
      "|   |   |   |   |--- class: 1.0\n",
      "|--- CreditHistory >  0.50\n",
      "|   |--- PropertyArea_Semiurban <= 0.50\n",
      "|   |   |--- LoanAmountLog <= 5.23\n",
      "|   |   |   |--- PropertyArea_Rural <= 0.50\n",
      "|   |   |   |   |--- IncomeLog <= 7.93\n",
      "|   |   |   |   |   |--- class: 0.0\n",
      "|   |   |   |   |--- IncomeLog >  7.93\n",
      "|   |   |   |   |   |--- class: 1.0\n",
      "|   |   |   |--- PropertyArea_Rural >  0.50\n",
      "|   |   |   |   |--- LoanAmountTerm <= 420.00\n",
      "|   |   |   |   |   |--- class: 1.0\n",
      "|   |   |   |   |--- LoanAmountTerm >  420.00\n",
      "|   |   |   |   |   |--- class: 0.0\n",
      "|   |   |--- LoanAmountLog >  5.23\n",
      "|   |   |   |--- class: 1.0\n",
      "|   |--- PropertyArea_Semiurban >  0.50\n",
      "|   |   |--- LoanAmountLog <= 5.36\n",
      "|   |   |   |--- LoanAmountLog <= 4.41\n",
      "|   |   |   |   |--- LoanAmountLog <= 4.07\n",
      "|   |   |   |   |   |--- class: 1.0\n",
      "|   |   |   |   |--- LoanAmountLog >  4.07\n",
      "|   |   |   |   |   |--- class: 0.0\n",
      "|   |   |   |--- LoanAmountLog >  4.41\n",
      "|   |   |   |   |--- LoanAmountLog <= 4.84\n",
      "|   |   |   |   |   |--- class: 1.0\n",
      "|   |   |   |   |--- LoanAmountLog >  4.84\n",
      "|   |   |   |   |   |--- class: 1.0\n",
      "|   |   |--- LoanAmountLog >  5.36\n",
      "|   |   |   |--- Dependents <= 1.50\n",
      "|   |   |   |   |--- SelfEmployed_No <= 0.50\n",
      "|   |   |   |   |   |--- class: 1.0\n",
      "|   |   |   |   |--- SelfEmployed_No >  0.50\n",
      "|   |   |   |   |   |--- class: 0.0\n",
      "|   |   |   |--- Dependents >  1.50\n",
      "|   |   |   |   |--- class: 1.0\n",
      "\n",
      "Tree :  2\n",
      "|--- CreditHistory <= 0.50\n",
      "|   |--- SelfEmployed_No <= 0.50\n",
      "|   |   |--- class: 0.0\n",
      "|   |--- SelfEmployed_No >  0.50\n",
      "|   |   |--- LoanAmountTerm <= 240.00\n",
      "|   |   |   |--- LoanAmountLog <= 5.62\n",
      "|   |   |   |   |--- class: 0.0\n",
      "|   |   |   |--- LoanAmountLog >  5.62\n",
      "|   |   |   |   |--- class: 1.0\n",
      "|   |   |--- LoanAmountTerm >  240.00\n",
      "|   |   |   |--- Dependents <= 1.50\n",
      "|   |   |   |   |--- LoanAmountLog <= 4.86\n",
      "|   |   |   |   |   |--- class: 0.0\n",
      "|   |   |   |   |--- LoanAmountLog >  4.86\n",
      "|   |   |   |   |   |--- class: 0.0\n",
      "|   |   |   |--- Dependents >  1.50\n",
      "|   |   |   |   |--- class: 0.0\n",
      "|--- CreditHistory >  0.50\n",
      "|   |--- PropertyArea_Rural <= 0.50\n",
      "|   |   |--- LoanAmountLog <= 4.89\n",
      "|   |   |   |--- Married_Yes <= 0.50\n",
      "|   |   |   |   |--- SelfEmployed_No <= 0.50\n",
      "|   |   |   |   |   |--- class: 0.0\n",
      "|   |   |   |   |--- SelfEmployed_No >  0.50\n",
      "|   |   |   |   |   |--- class: 1.0\n",
      "|   |   |   |--- Married_Yes >  0.50\n",
      "|   |   |   |   |--- PropertyArea_Semiurban <= 0.50\n",
      "|   |   |   |   |   |--- class: 1.0\n",
      "|   |   |   |   |--- PropertyArea_Semiurban >  0.50\n",
      "|   |   |   |   |   |--- class: 1.0\n",
      "|   |   |--- LoanAmountLog >  4.89\n",
      "|   |   |   |--- IncomeLog <= 8.47\n",
      "|   |   |   |   |--- class: 0.0\n",
      "|   |   |   |--- IncomeLog >  8.47\n",
      "|   |   |   |   |--- IncomeLog <= 9.98\n",
      "|   |   |   |   |   |--- class: 1.0\n",
      "|   |   |   |   |--- IncomeLog >  9.98\n",
      "|   |   |   |   |   |--- class: 0.0\n",
      "|   |--- PropertyArea_Rural >  0.50\n",
      "|   |   |--- LoanAmountLog <= 5.36\n",
      "|   |   |   |--- LoanAmountTerm <= 420.00\n",
      "|   |   |   |   |--- SelfEmployed_No <= 0.50\n",
      "|   |   |   |   |   |--- class: 1.0\n",
      "|   |   |   |   |--- SelfEmployed_No >  0.50\n",
      "|   |   |   |   |   |--- class: 1.0\n",
      "|   |   |   |--- LoanAmountTerm >  420.00\n",
      "|   |   |   |   |--- class: 0.0\n",
      "|   |   |--- LoanAmountLog >  5.36\n",
      "|   |   |   |--- Married_No <= 0.50\n",
      "|   |   |   |   |--- Dependents <= 1.00\n",
      "|   |   |   |   |   |--- class: 0.0\n",
      "|   |   |   |   |--- Dependents >  1.00\n",
      "|   |   |   |   |   |--- class: 1.0\n",
      "|   |   |   |--- Married_No >  0.50\n",
      "|   |   |   |   |--- class: 0.0\n",
      "\n",
      "Tree :  3\n",
      "|--- CreditHistory <= 0.50\n",
      "|   |--- PropertyArea_Semiurban <= 0.50\n",
      "|   |   |--- class: 0.0\n",
      "|   |--- PropertyArea_Semiurban >  0.50\n",
      "|   |   |--- Education_Not Graduate <= 0.50\n",
      "|   |   |   |--- LoanAmountLog <= 4.92\n",
      "|   |   |   |   |--- class: 0.0\n",
      "|   |   |   |--- LoanAmountLog >  4.92\n",
      "|   |   |   |   |--- Dependents <= 1.50\n",
      "|   |   |   |   |   |--- class: 1.0\n",
      "|   |   |   |   |--- Dependents >  1.50\n",
      "|   |   |   |   |   |--- class: 0.0\n",
      "|   |   |--- Education_Not Graduate >  0.50\n",
      "|   |   |   |--- IncomeLog <= 8.65\n",
      "|   |   |   |   |--- class: 0.0\n",
      "|   |   |   |--- IncomeLog >  8.65\n",
      "|   |   |   |   |--- class: 1.0\n",
      "|--- CreditHistory >  0.50\n",
      "|   |--- LoanAmountTerm <= 48.00\n",
      "|   |   |--- class: 0.0\n",
      "|   |--- LoanAmountTerm >  48.00\n",
      "|   |   |--- PropertyArea_Rural <= 0.50\n",
      "|   |   |   |--- IncomeLog <= 8.57\n",
      "|   |   |   |   |--- LoanAmountLog <= 4.83\n",
      "|   |   |   |   |   |--- class: 1.0\n",
      "|   |   |   |   |--- LoanAmountLog >  4.83\n",
      "|   |   |   |   |   |--- class: 1.0\n",
      "|   |   |   |--- IncomeLog >  8.57\n",
      "|   |   |   |   |--- Dependents <= 2.50\n",
      "|   |   |   |   |   |--- class: 1.0\n",
      "|   |   |   |   |--- Dependents >  2.50\n",
      "|   |   |   |   |   |--- class: 1.0\n",
      "|   |   |--- PropertyArea_Rural >  0.50\n",
      "|   |   |   |--- LoanAmountTerm <= 330.00\n",
      "|   |   |   |   |--- class: 1.0\n",
      "|   |   |   |--- LoanAmountTerm >  330.00\n",
      "|   |   |   |   |--- SelfEmployed_Yes <= 0.50\n",
      "|   |   |   |   |   |--- class: 1.0\n",
      "|   |   |   |   |--- SelfEmployed_Yes >  0.50\n",
      "|   |   |   |   |   |--- class: 1.0\n",
      "\n"
     ]
    }
   ],
   "source": [
    "# Print internal decision trees\n",
    "for count, tree in enumerate(model.estimators_):\n",
    "      # Print tree for each classifier \n",
    "      tree_rules = export_text(tree, feature_names =  list(X_train.columns))\n",
    "      print(\"Tree : \",count + 1)\n",
    "      print(tree_rules)      "
   ]
  },
  {
   "cell_type": "markdown",
   "metadata": {},
   "source": [
    "## KNN "
   ]
  },
  {
   "cell_type": "code",
   "execution_count": 43,
   "metadata": {},
   "outputs": [],
   "source": [
    "from sklearn.neighbors import KNeighborsClassifier"
   ]
  },
  {
   "cell_type": "code",
   "execution_count": 44,
   "metadata": {},
   "outputs": [
    {
     "data": {
      "text/plain": [
       "KNeighborsClassifier(algorithm='auto', leaf_size=30, metric='minkowski',\n",
       "                     metric_params=None, n_jobs=None, n_neighbors=5, p=2,\n",
       "                     weights='uniform')"
      ]
     },
     "execution_count": 44,
     "metadata": {},
     "output_type": "execute_result"
    }
   ],
   "source": [
    "model = KNeighborsClassifier(n_neighbors=5)\n",
    "model.fit(X_train_scaled,y_train)"
   ]
  },
  {
   "cell_type": "code",
   "execution_count": 45,
   "metadata": {},
   "outputs": [
    {
     "data": {
      "text/plain": [
       "0.6319290465631929"
      ]
     },
     "execution_count": 45,
     "metadata": {},
     "output_type": "execute_result"
    }
   ],
   "source": [
    "model.score(X_train,y_train)"
   ]
  },
  {
   "cell_type": "code",
   "execution_count": 46,
   "metadata": {},
   "outputs": [],
   "source": [
    "y_pred = model.predict(X_test_scaled)"
   ]
  },
  {
   "cell_type": "code",
   "execution_count": 47,
   "metadata": {},
   "outputs": [
    {
     "name": "stdout",
     "output_type": "stream",
     "text": [
      "Overall Accuracy             : 0.75\n",
      "Precision                    : 0.76\n",
      "Recall or TPR or Sensitivity : 0.94\n",
      "Specificity or TNR           : 0.34\n"
     ]
    }
   ],
   "source": [
    "print_scores(y_test,y_pred)"
   ]
  },
  {
   "cell_type": "markdown",
   "metadata": {},
   "source": [
    "## Naive Bayes "
   ]
  },
  {
   "cell_type": "code",
   "execution_count": 48,
   "metadata": {},
   "outputs": [],
   "source": [
    "from sklearn.naive_bayes import GaussianNB"
   ]
  },
  {
   "cell_type": "code",
   "execution_count": 49,
   "metadata": {},
   "outputs": [
    {
     "data": {
      "text/plain": [
       "GaussianNB(priors=None, var_smoothing=1e-09)"
      ]
     },
     "execution_count": 49,
     "metadata": {},
     "output_type": "execute_result"
    }
   ],
   "source": [
    "model = GaussianNB()\n",
    "model.fit(X_train,y_train)"
   ]
  },
  {
   "cell_type": "code",
   "execution_count": 50,
   "metadata": {},
   "outputs": [
    {
     "data": {
      "text/plain": [
       "0.8181818181818182"
      ]
     },
     "execution_count": 50,
     "metadata": {},
     "output_type": "execute_result"
    }
   ],
   "source": [
    "model.score(X_train,y_train)"
   ]
  },
  {
   "cell_type": "code",
   "execution_count": 51,
   "metadata": {},
   "outputs": [],
   "source": [
    "y_pred = model.predict(X_test)"
   ]
  },
  {
   "cell_type": "code",
   "execution_count": 52,
   "metadata": {},
   "outputs": [
    {
     "name": "stdout",
     "output_type": "stream",
     "text": [
      "Overall Accuracy             : 0.79\n",
      "Precision                    : 0.79\n",
      "Recall or TPR or Sensitivity : 0.95\n",
      "Specificity or TNR           : 0.43\n"
     ]
    }
   ],
   "source": [
    "print_scores(y_test,y_pred)"
   ]
  },
  {
   "cell_type": "markdown",
   "metadata": {},
   "source": [
    "## Support Vector Machines"
   ]
  },
  {
   "cell_type": "code",
   "execution_count": 53,
   "metadata": {},
   "outputs": [],
   "source": [
    "from sklearn.svm import SVC"
   ]
  },
  {
   "cell_type": "code",
   "execution_count": 54,
   "metadata": {},
   "outputs": [
    {
     "data": {
      "text/plain": [
       "SVC(C=1.0, break_ties=False, cache_size=200, class_weight=None, coef0=0.0,\n",
       "    decision_function_shape='ovr', degree=3, gamma='scale', kernel='rbf',\n",
       "    max_iter=-1, probability=False, random_state=None, shrinking=True,\n",
       "    tol=0.001, verbose=False)"
      ]
     },
     "execution_count": 54,
     "metadata": {},
     "output_type": "execute_result"
    }
   ],
   "source": [
    "model = SVC()\n",
    "model.fit(X_train_scaled,y_train)"
   ]
  },
  {
   "cell_type": "code",
   "execution_count": 55,
   "metadata": {},
   "outputs": [
    {
     "data": {
      "text/plain": [
       "0.8337028824833703"
      ]
     },
     "execution_count": 55,
     "metadata": {},
     "output_type": "execute_result"
    }
   ],
   "source": [
    "model.score(X_train_scaled,y_train)"
   ]
  },
  {
   "cell_type": "code",
   "execution_count": 56,
   "metadata": {},
   "outputs": [],
   "source": [
    "y_pred = model.predict(X_test_scaled)"
   ]
  },
  {
   "cell_type": "code",
   "execution_count": 57,
   "metadata": {},
   "outputs": [
    {
     "name": "stdout",
     "output_type": "stream",
     "text": [
      "Overall Accuracy             : 0.78\n",
      "Precision                    : 0.77\n",
      "Recall or TPR or Sensitivity : 0.96\n",
      "Specificity or TNR           : 0.37\n"
     ]
    }
   ],
   "source": [
    "print_scores(y_test,y_pred)"
   ]
  },
  {
   "cell_type": "markdown",
   "metadata": {},
   "source": [
    "### GradientBoostingClassifier"
   ]
  },
  {
   "cell_type": "code",
   "execution_count": 58,
   "metadata": {},
   "outputs": [],
   "source": [
    "from sklearn.ensemble import GradientBoostingClassifier"
   ]
  },
  {
   "cell_type": "code",
   "execution_count": 59,
   "metadata": {},
   "outputs": [
    {
     "data": {
      "text/plain": [
       "GradientBoostingClassifier(ccp_alpha=0.0, criterion='friedman_mse', init=None,\n",
       "                           learning_rate=0.1, loss='deviance', max_depth=3,\n",
       "                           max_features=None, max_leaf_nodes=None,\n",
       "                           min_impurity_decrease=0.0, min_impurity_split=None,\n",
       "                           min_samples_leaf=1, min_samples_split=2,\n",
       "                           min_weight_fraction_leaf=0.0, n_estimators=100,\n",
       "                           n_iter_no_change=None, presort='deprecated',\n",
       "                           random_state=None, subsample=1.0, tol=0.0001,\n",
       "                           validation_fraction=0.1, verbose=0,\n",
       "                           warm_start=False)"
      ]
     },
     "execution_count": 59,
     "metadata": {},
     "output_type": "execute_result"
    }
   ],
   "source": [
    "model = GradientBoostingClassifier()\n",
    "model.fit(X_train,y_train)"
   ]
  },
  {
   "cell_type": "code",
   "execution_count": 60,
   "metadata": {},
   "outputs": [
    {
     "data": {
      "text/plain": [
       "0.9046563192904656"
      ]
     },
     "execution_count": 60,
     "metadata": {},
     "output_type": "execute_result"
    }
   ],
   "source": [
    "model.score(X_train,y_train)"
   ]
  },
  {
   "cell_type": "code",
   "execution_count": 61,
   "metadata": {},
   "outputs": [],
   "source": [
    "y_pred = model.predict(X_test)"
   ]
  },
  {
   "cell_type": "code",
   "execution_count": 62,
   "metadata": {},
   "outputs": [
    {
     "name": "stdout",
     "output_type": "stream",
     "text": [
      "Overall Accuracy             : 0.79\n",
      "Precision                    : 0.79\n",
      "Recall or TPR or Sensitivity : 0.94\n",
      "Specificity or TNR           : 0.46\n"
     ]
    }
   ],
   "source": [
    "print_scores(y_test,y_pred)"
   ]
  },
  {
   "cell_type": "code",
   "execution_count": 63,
   "metadata": {},
   "outputs": [],
   "source": [
    "cm = confusion_matrix(y_test,y_pred)"
   ]
  },
  {
   "cell_type": "code",
   "execution_count": 67,
   "metadata": {},
   "outputs": [
    {
     "data": {
      "text/plain": [
       "Text(30.5, 0.5, 'Actual')"
      ]
     },
     "execution_count": 67,
     "metadata": {},
     "output_type": "execute_result"
    },
    {
     "data": {
      "image/png": "[encoded data removed]",
      "text/plain": [
       "<Figure size 432x288 with 1 Axes>"
      ]
     },
     "metadata": {},
     "output_type": "display_data"
    }
   ],
   "source": [
    "group_names = ['TN','FP','FN','TP']\n",
    "group_counts = [\"{0:0.0f}\".format(value) for value in cm.flatten()]\n",
    "group_percentages = [\"{0:0.2%}\".format(value) for value in cm.flatten()/np.sum(cm)]\n",
    "labels = [f\"{v1}\\n{v2}\\n{v3}\" for v1, v2, v3 in zip(group_names,group_counts,group_percentages)]\n",
    "labels = np.asarray(labels).reshape(2,2)\n",
    "sns.heatmap(cm, annot=labels, fmt='',cmap='BuGn', cbar=False)\n",
    "plt.xlabel(\"Predicted\")\n",
    "plt.ylabel(\"Actual\")"
   ]
  },
  {
   "cell_type": "code",
   "execution_count": null,
   "metadata": {},
   "outputs": [],
   "source": [
    "import sys\n",
    "sys.version"
   ]
  },
  {
   "cell_type": "code",
   "execution_count": null,
   "metadata": {},
   "outputs": [],
   "source": []
  }
 ],
 "metadata": {
  "kernelspec": {
   "display_name": "Python 3",
   "language": "python",
   "name": "python3"
  },
  "language_info": {
   "codemirror_mode": {
    "name": "ipython",
    "version": 3
   },
   "file_extension": ".py",
   "mimetype": "text/x-python",
   "name": "python",
   "nbconvert_exporter": "python",
   "pygments_lexer": "ipython3",
   "version": "3.7.6"
  }
 },
 "nbformat": 4,
 "nbformat_minor": 4
}
